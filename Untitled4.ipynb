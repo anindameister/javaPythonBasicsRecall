{
  "nbformat": 4,
  "nbformat_minor": 0,
  "metadata": {
    "colab": {
      "name": "Untitled4.ipynb",
      "provenance": []
    },
    "kernelspec": {
      "name": "python3",
      "display_name": "Python 3"
    }
  },
  "cells": [
    {
      "cell_type": "code",
      "metadata": {
        "id": "FPxn-amzNh_g",
        "colab_type": "code",
        "colab": {
          "base_uri": "https://localhost:8080/",
          "height": 221
        },
        "outputId": "485663a5-e107-4070-fafa-4488600071d1"
      },
      "source": [
        "#table of 5\n",
        "user_input=int(input(\"enter a number whose table you wanna get:\"))\n",
        "print(\"the table of\",user_input,\"is as follows:\")\n",
        "for i in range(1,11):\n",
        "  print(user_input, '*' ,i,'=',user_input*i)"
      ],
      "execution_count": 4,
      "outputs": [
        {
          "output_type": "stream",
          "text": [
            "enter a number whose table you wanna get:9\n",
            "the table of 9 is as follows:\n",
            "9 * 1 = 9\n",
            "9 * 2 = 18\n",
            "9 * 3 = 27\n",
            "9 * 4 = 36\n",
            "9 * 5 = 45\n",
            "9 * 6 = 54\n",
            "9 * 7 = 63\n",
            "9 * 8 = 72\n",
            "9 * 9 = 81\n",
            "9 * 10 = 90\n"
          ],
          "name": "stdout"
        }
      ]
    }
  ]
}